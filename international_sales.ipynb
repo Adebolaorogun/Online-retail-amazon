{
 "cells": [
  {
   "cell_type": "code",
   "execution_count": 6,
   "metadata": {},
   "outputs": [
    {
     "data": {
      "text/html": [
       "        <script type=\"text/javascript\">\n",
       "        window.PlotlyConfig = {MathJaxConfig: 'local'};\n",
       "        if (window.MathJax && window.MathJax.Hub && window.MathJax.Hub.Config) {window.MathJax.Hub.Config({SVG: {font: \"STIX-Web\"}});}\n",
       "        if (typeof require !== 'undefined') {\n",
       "        require.undef(\"plotly\");\n",
       "        requirejs.config({\n",
       "            paths: {\n",
       "                'plotly': ['https://cdn.plot.ly/plotly-2.12.1.min']\n",
       "            }\n",
       "        });\n",
       "        require(['plotly'], function(Plotly) {\n",
       "            window._Plotly = Plotly;\n",
       "        });\n",
       "        }\n",
       "        </script>\n",
       "        "
      ]
     },
     "metadata": {},
     "output_type": "display_data"
    },
    {
     "data": {
      "text/plain": [
       "'sales_choropleth.html'"
      ]
     },
     "execution_count": 6,
     "metadata": {},
     "output_type": "execute_result"
    }
   ],
   "source": [
    "import pandas as pd\n",
    "import matplotlib.pyplot as plt\n",
    "import plotly.graph_objs as go\n",
    "from plotly.offline import download_plotlyjs, init_notebook_mode, plot\n",
    "\n",
    "init_notebook_mode(connected=True)\n",
    "%matplotlib inline\n",
    "\n",
    "# Importing dataset\n",
    "CleanDataset = r'./Dataset/OnlineRetail.csv'\n",
    "Data_Cleaned = pd.read_csv(CleanDataset, index_col='InvoiceDate')\n",
    "Data_Cleaned.index = pd.to_datetime(Data_Cleaned.index, format='%Y-%m-%d %H:%M')\n",
    "\n",
    "# Country code dictionary\n",
    "country_codes = {\n",
    "    'United Kingdom': 'GBR',\n",
    "    'Germany': 'DEU',\n",
    "    'France': 'FRA',\n",
    "    'Spain': 'ESP',\n",
    "    # Add more countries and their codes as needed\n",
    "}\n",
    "\n",
    "# Add CountryCode column to DataFrame\n",
    "Data_Cleaned['CountryCode'] = Data_Cleaned['Country'].map(country_codes)\n",
    "\n",
    "# Creating the choropleth map\n",
    "mapdata = Data_Cleaned.dropna()\n",
    "map_data = {\n",
    "    'type': 'choropleth',\n",
    "    'autocolorscale': False,\n",
    "    'colorscale': 'Portland',\n",
    "    'locations': mapdata[mapdata['CountryCode'] != 'GBR'].groupby('CountryCode', sort=False)['FinalPrice'].sum().index,\n",
    "    'z': mapdata[mapdata['CountryCode'] != 'GBR'].groupby('CountryCode', sort=False)['FinalPrice'].sum().values,\n",
    "    'text': mapdata[mapdata['CountryCode'] != 'GBR']['Country'].unique(),\n",
    "    'colorbar': {'title': 'Pounds'}\n",
    "}\n",
    "map_layout = {\n",
    "    'title': 'Sales in Foreign Countries',\n",
    "    'geo': {'showframe': False, 'projection': {'type': 'equirectangular'}}\n",
    "}\n",
    "FinalMap = go.Figure(data=[map_data], layout=map_layout)\n",
    "plot(FinalMap, filename='sales_choropleth.html')\n"
   ]
  },
  {
   "cell_type": "code",
   "execution_count": null,
   "metadata": {},
   "outputs": [],
   "source": []
  }
 ],
 "metadata": {
  "kernelspec": {
   "display_name": "base",
   "language": "python",
   "name": "python3"
  },
  "language_info": {
   "codemirror_mode": {
    "name": "ipython",
    "version": 3
   },
   "file_extension": ".py",
   "mimetype": "text/x-python",
   "name": "python",
   "nbconvert_exporter": "python",
   "pygments_lexer": "ipython3",
   "version": "3.9.13"
  },
  "orig_nbformat": 4
 },
 "nbformat": 4,
 "nbformat_minor": 2
}
